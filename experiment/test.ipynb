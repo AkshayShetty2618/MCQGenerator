{
 "cells": [
  {
   "cell_type": "code",
   "execution_count": 2,
   "metadata": {},
   "outputs": [],
   "source": [
    "import os\n",
    "import json\n",
    "import pandas as pd\n",
    "import traceback\n",
    "from dotenv import load_dotenv"
   ]
  },
  {
   "cell_type": "code",
   "execution_count": 3,
   "metadata": {},
   "outputs": [],
   "source": [
    "from langchain.chat_models import ChatOpenAI\n",
    "from langchain.prompts import PromptTemplate\n",
    "from langchain.chains import LLMChain\n",
    "from langchain.chains import SequentialChain\n",
    "from langchain.callbacks import get_openai_callback\n",
    "import PyPDF2"
   ]
  },
  {
   "cell_type": "code",
   "execution_count": 4,
   "metadata": {},
   "outputs": [
    {
     "name": "stderr",
     "output_type": "stream",
     "text": [
      "e:\\GPT BootCamp\\OPENAI\\MCQGenerator\\env\\lib\\site-packages\\langchain_core\\_api\\deprecation.py:117: LangChainDeprecationWarning: The class `langchain_community.chat_models.openai.ChatOpenAI` was deprecated in langchain-community 0.0.10 and will be removed in 0.2.0. An updated version of the class exists in the langchain-openai package and should be used instead. To use it run `pip install -U langchain-openai` and import as `from langchain_openai import ChatOpenAI`.\n",
      "  warn_deprecated(\n"
     ]
    }
   ],
   "source": [
    "\n",
    "load_dotenv()\n",
    "KEY = os.getenv(\"OPENAI_API_KEY\") \n",
    "llm = ChatOpenAI(openai_api_key= KEY, model_name= \"gpt-3.5-turbo\", temperature =\"0.5\")"
   ]
  },
  {
   "cell_type": "code",
   "execution_count": 5,
   "metadata": {},
   "outputs": [],
   "source": [
    "RESPONSE_JSON = {\n",
    "    \"1\": {\n",
    "        \"mcq\": \"multiple choice question\",\n",
    "        \"options\": {\n",
    "            \"a\": \"choice here\",\n",
    "            \"b\": \"choice here\",\n",
    "            \"c\": \"choice here\",\n",
    "            \"d\": \"choice here\",\n",
    "        },\n",
    "        \"correct\": \"correct answer\",\n",
    "    },\n",
    "    \"2\": {\n",
    "        \"mcq\": \"multiple choice question\",\n",
    "        \"options\": {\n",
    "            \"a\": \"choice here\",\n",
    "            \"b\": \"choice here\",\n",
    "            \"c\": \"choice here\",\n",
    "            \"d\": \"choice here\",\n",
    "        },\n",
    "        \"correct\": \"correct answer\",\n",
    "    },\n",
    "    \"3\": {\n",
    "        \"mcq\": \"multiple choice question\",\n",
    "        \"options\": {\n",
    "            \"a\": \"choice here\",\n",
    "            \"b\": \"choice here\",\n",
    "            \"c\": \"choice here\",\n",
    "            \"d\": \"choice here\",\n",
    "        },\n",
    "        \"correct\": \"correct answer\",\n",
    "    },\n",
    "}"
   ]
  },
  {
   "cell_type": "code",
   "execution_count": 6,
   "metadata": {},
   "outputs": [],
   "source": [
    "TEMPLATE=\"\"\"\n",
    "Text:{text}\n",
    "You are an expert MCQ maker. Given the above text, it is your job to \\\n",
    "create a quiz  of {number} multiple choice questions for {subject} students in {tone} tone. \n",
    "Make sure the questions are not repeated and check all the questions to be conforming the text as well.\n",
    "Make sure to format your response like  RESPONSE_JSON below  and use it as a guide. \\\n",
    "Ensure to make {number} MCQs\n",
    "### RESPONSE_JSON\n",
    "{response_json}\n",
    "\"\"\"\n",
    "\n",
    "# tonme: Difficulty level of the question : simple| intermediate| Hard"
   ]
  },
  {
   "cell_type": "code",
   "execution_count": 7,
   "metadata": {},
   "outputs": [],
   "source": [
    "prompt_template = PromptTemplate(\n",
    "    input_variables = [\"text\",\"number\",\"subject\",\"tone\",\"response_json\"],\n",
    "    template = TEMPLATE\n",
    ")"
   ]
  },
  {
   "cell_type": "code",
   "execution_count": 8,
   "metadata": {},
   "outputs": [],
   "source": [
    "chain = LLMChain(llm = llm, prompt = prompt_template, output_key = \"quiz\", verbose= True)"
   ]
  },
  {
   "cell_type": "code",
   "execution_count": 9,
   "metadata": {},
   "outputs": [],
   "source": [
    "TEMPLATE2=\"\"\"\n",
    "You are an expert english grammarian and writer. Given a Multiple Choice Quiz for {subject} students.\\\n",
    "You need to evaluate the complexity of the question and give a complete analysis of the quiz. Only use at max 50 words for complexity analysis. \n",
    "if the quiz is not at per with the cognitive and analytical abilities of the students,\\\n",
    "update the quiz questions which needs to be changed and change the tone such that it perfectly fits the student abilities\n",
    "Quiz_MCQs:\n",
    "{quiz}\n",
    "\n",
    "Check from an expert English Writer of the above quiz:\n",
    "\"\"\""
   ]
  },
  {
   "cell_type": "code",
   "execution_count": 10,
   "metadata": {},
   "outputs": [],
   "source": [
    "quiz_evaluation_prompt=PromptTemplate(input_variables=[\"subject\", \"quiz\"], template=TEMPLATE2)"
   ]
  },
  {
   "cell_type": "code",
   "execution_count": 11,
   "metadata": {},
   "outputs": [],
   "source": [
    "evalChain = LLMChain(llm=llm, prompt= quiz_evaluation_prompt, output_key= \"review\", verbose= True)"
   ]
  },
  {
   "cell_type": "code",
   "execution_count": 12,
   "metadata": {},
   "outputs": [],
   "source": [
    "seqChain = SequentialChain(chains = [chain, evalChain], input_variables=[\"text\",\"number\",\"subject\",\"tone\",\"response_json\"],\n",
    "                           output_variables=[\"quiz\", \"review\"], verbose = True)"
   ]
  },
  {
   "cell_type": "code",
   "execution_count": 58,
   "metadata": {},
   "outputs": [],
   "source": [
    "filePath = r\"E:\\GPT BootCamp\\OPENAI\\MCQGenerator\\Excretion.txt\"\n",
    "\n",
    "with open(filePath, 'r') as file:\n",
    "    TEXT = file.read()"
   ]
  },
  {
   "cell_type": "code",
   "execution_count": null,
   "metadata": {},
   "outputs": [],
   "source": [
    "print(TEXT)"
   ]
  },
  {
   "cell_type": "code",
   "execution_count": 59,
   "metadata": {},
   "outputs": [],
   "source": [
    "json.dumps(RESPONSE_JSON)\n",
    "\n",
    "NUMBER=10\n",
    "SUBJECT=\"Biology\"\n",
    "TONE=\"hard\""
   ]
  },
  {
   "cell_type": "code",
   "execution_count": 60,
   "metadata": {},
   "outputs": [
    {
     "name": "stdout",
     "output_type": "stream",
     "text": [
      "\n",
      "\n",
      "\u001b[1m> Entering new SequentialChain chain...\u001b[0m\n",
      "\n",
      "\n",
      "\u001b[1m> Entering new LLMChain chain...\u001b[0m\n",
      "Prompt after formatting:\n",
      "\u001b[32;1m\u001b[1;3m\n",
      "Text:Osmoregulation: \n",
      "Regulation of solute and water concentration, maintenance of constant osmotic pressure. Part of homeostasis.\n",
      "Osmoregulators: regulate osmotic pressure independent from environment\n",
      "Osmoconformers: regulate osmotic pressure according to environment (jellyfish, mussels. Some can work better with changing salt concentrations around them)\n",
      "\n",
      "\n",
      "\n",
      "Salt glands\n",
      "•\tExcrete hypertonic substances with help of NaCl (costs ATP)\n",
      "•\tLocated in skull of some reptiles and most water birds\n",
      "\n",
      "\n",
      "\n",
      "Nitrogenous waste\n",
      "Are broken down to glucose and ammonia. \n",
      "Excretion of \n",
      "•\tAmmonium: most aquatic animals and bony fishes. Highly poisonous, excretion (both active and passive) via kidneys and gills requires lots of water\n",
      "•\tUrea: Mammals, shark, some bony fishes, most amphibians. Less toxic than ammonium thus less water required for excretion. CO2 binds to ammonium in liver (energy-demanding) creating urea.\n",
      "•\tUric acid: Birds, insects, many reptiles, land snails. Relatively non-toxic, can be excreted as a semisolid paste (little water required). Costs a lot of energy.\n",
      "\n",
      "\n",
      "\n",
      "Kidneys\n",
      "Perfrom the following functions\n",
      "•\tTerminate waste products\n",
      "•\tRegulate pH and osmotic pressure of blood\n",
      "•\tCan change blood pressure\n",
      "•\tUrine is collected in the renal pelvis and leaves through ureter\n",
      "•\tFunctional section of kidney: Nephron\n",
      "\n",
      "\n",
      "Glomerulus \n",
      "•\tHigh blood pressure in glomerulus\n",
      "•\tBlood pressure is regulated with help of hormone renine\n",
      "•\tUltrafiltration in glomerulus: Water soluble substances are pressed out of blood vessels in glomerulus (high blood pressure) and mix with water inside bowman´s capsule = preliminary urine (in humans ca. 150l/meal).\n",
      "\n",
      "\n",
      "\n",
      "Urine production\n",
      "Preliminary urine is travelling through all these tubules and the loop of Henle. Ca. 99% of it is being reabsorbed into the interstitial fluid (both active and passive transport/water through osmosis), the rest ends as urine in the collecting duct, which leads to the renal pelvis.\n",
      "\n",
      "\n",
      "\n",
      "\n",
      "\n",
      "RAA-System\n",
      "RAA stands for Renin Angiotensin Aldosterone. it perfroms the following functions \n",
      "•\tRegulates urine production and blood pressure\n",
      "•\tGlomerulus releases renin when blood pressure is low\n",
      "•\tRenin activates angiotensinogen in liver, which transforms it to angiotensin 1\n",
      "•\tLung cells convert angiotensin 1 into 2 with help of angiotensin converting enzyme (ACE)\n",
      "•\tAngiotensin 2 \n",
      "1.\tConstricts blood vessels (vasoconstriction)\n",
      "2.\tTriggers production of ADH (antidiuretic hormone): Makes kidneys release less water (and give back to blood), thus produce less urine\n",
      "3.\tTriggers production of aldosterone (adrenalin gland): Makes kidneys reabsorp salt, which also keeps water in kidneys\n",
      "•\tBlood volume increases through water -> blood pressure rises even more\n",
      "\n",
      "\n",
      "\n",
      "You are an expert MCQ maker. Given the above text, it is your job to create a quiz  of 10 multiple choice questions for Biology students in hard tone. \n",
      "Make sure the questions are not repeated and check all the questions to be conforming the text as well.\n",
      "Make sure to format your response like  RESPONSE_JSON below  and use it as a guide. Ensure to make 10 MCQs\n",
      "### RESPONSE_JSON\n",
      "{\"1\": {\"mcq\": \"multiple choice question\", \"options\": {\"a\": \"choice here\", \"b\": \"choice here\", \"c\": \"choice here\", \"d\": \"choice here\"}, \"correct\": \"correct answer\"}, \"2\": {\"mcq\": \"multiple choice question\", \"options\": {\"a\": \"choice here\", \"b\": \"choice here\", \"c\": \"choice here\", \"d\": \"choice here\"}, \"correct\": \"correct answer\"}, \"3\": {\"mcq\": \"multiple choice question\", \"options\": {\"a\": \"choice here\", \"b\": \"choice here\", \"c\": \"choice here\", \"d\": \"choice here\"}, \"correct\": \"correct answer\"}}\n",
      "\u001b[0m\n",
      "\n",
      "\u001b[1m> Finished chain.\u001b[0m\n",
      "\n",
      "\n",
      "\u001b[1m> Entering new LLMChain chain...\u001b[0m\n",
      "Prompt after formatting:\n",
      "\u001b[32;1m\u001b[1;3m\n",
      "You are an expert english grammarian and writer. Given a Multiple Choice Quiz for Biology students.You need to evaluate the complexity of the question and give a complete analysis of the quiz. Only use at max 50 words for complexity analysis. \n",
      "if the quiz is not at per with the cognitive and analytical abilities of the students,update the quiz questions which needs to be changed and change the tone such that it perfectly fits the student abilities\n",
      "Quiz_MCQs:\n",
      "{\n",
      "\"1\": {\n",
      "\"mcq\": \"What is the main function of osmoregulation?\",\n",
      "\"options\": {\n",
      "\"a\": \"Regulation of solute concentration only\",\n",
      "\"b\": \"Maintenance of constant osmotic pressure only\",\n",
      "\"c\": \"Regulation of solute and water concentration, maintenance of constant osmotic pressure\",\n",
      "\"d\": \"Regulation of water concentration only\"\n",
      "},\n",
      "\"correct\": \"c\"\n",
      "},\n",
      "\"2\": {\n",
      "\"mcq\": \"Which of the following organisms are osmoregulators?\",\n",
      "\"options\": {\n",
      "\"a\": \"Jellyfish\",\n",
      "\"b\": \"Mussels\",\n",
      "\"c\": \"Both Jellyfish and Mussels\",\n",
      "\"d\": \"None of the above\"\n",
      "},\n",
      "\"correct\": \"d\"\n",
      "},\n",
      "\"3\": {\n",
      "\"mcq\": \"Where are salt glands located in some reptiles and most water birds?\",\n",
      "\"options\": {\n",
      "\"a\": \"In the tail\",\n",
      "\"b\": \"In the abdomen\",\n",
      "\"c\": \"In the skull\",\n",
      "\"d\": \"In the limbs\"\n",
      "},\n",
      "\"correct\": \"c\"\n",
      "},\n",
      "\"4\": {\n",
      "\"mcq\": \"Which nitrogenous waste is excreted by most aquatic animals and bony fishes?\",\n",
      "\"options\": {\n",
      "\"a\": \"Ammonium\",\n",
      "\"b\": \"Urea\",\n",
      "\"c\": \"Uric acid\",\n",
      "\"d\": \"Glucose\"\n",
      "},\n",
      "\"correct\": \"a\"\n",
      "},\n",
      "\"5\": {\n",
      "\"mcq\": \"What is the functional unit of the kidney responsible for filtering blood and producing urine?\",\n",
      "\"options\": {\n",
      "\"a\": \"Nephron\",\n",
      "\"b\": \"Glomerulus\",\n",
      "\"c\": \"Renal pelvis\",\n",
      "\"d\": \"Ureter\"\n",
      "},\n",
      "\"correct\": \"a\"\n",
      "},\n",
      "\"6\": {\n",
      "\"mcq\": \"What is the purpose of the RAA system in the body?\",\n",
      "\"options\": {\n",
      "\"a\": \"Regulates heart rate\",\n",
      "\"b\": \"Regulates urine production and blood pressure\",\n",
      "\"c\": \"Regulates body temperature\",\n",
      "\"d\": \"Regulates digestion\"\n",
      "},\n",
      "\"correct\": \"b\"\n",
      "},\n",
      "\"7\": {\n",
      "\"mcq\": \"Which hormone triggers the production of ADH in response to low blood pressure?\",\n",
      "\"options\": {\n",
      "\"a\": \"Renin\",\n",
      "\"b\": \"Angiotensin 1\",\n",
      "\"c\": \"Angiotensin 2\",\n",
      "\"d\": \"ADH\"\n",
      "},\n",
      "\"correct\": \"c\"\n",
      "},\n",
      "\"8\": {\n",
      "\"mcq\": \"What is the function of aldosterone in the RAA system?\",\n",
      "\"options\": {\n",
      "\"a\": \"Triggers vasoconstriction\",\n",
      "\"b\": \"Promotes water reabsorption in the kidneys\",\n",
      "\"c\": \"Stimulates the production of renin\",\n",
      "\"d\": \"Inhibits the production of ADH\"\n",
      "},\n",
      "\"correct\": \"b\"\n",
      "},\n",
      "\"9\": {\n",
      "\"mcq\": \"What happens to blood pressure when Angiotensin 2 triggers the production of ADH?\",\n",
      "\"options\": {\n",
      "\"a\": \"Blood pressure decreases\",\n",
      "\"b\": \"Blood pressure increases\",\n",
      "\"c\": \"Blood pressure remains the same\",\n",
      "\"d\": \"Blood pressure fluctuates\"\n",
      "},\n",
      "\"correct\": \"b\"\n",
      "},\n",
      "\"10\": {\n",
      "\"mcq\": \"Which nitrogenous waste is excreted by birds, insects, and many reptiles?\",\n",
      "\"options\": {\n",
      "\"a\": \"Ammonium\",\n",
      "\"b\": \"Urea\",\n",
      "\"c\": \"Uric acid\",\n",
      "\"d\": \"Glucose\"\n",
      "},\n",
      "\"correct\": \"c\"\n",
      "}\n",
      "}\n",
      "\n",
      "Check from an expert English Writer of the above quiz:\n",
      "\u001b[0m\n",
      "\n",
      "\u001b[1m> Finished chain.\u001b[0m\n",
      "\n",
      "\u001b[1m> Finished chain.\u001b[0m\n"
     ]
    }
   ],
   "source": [
    "with get_openai_callback() as cb:\n",
    "    response=seqChain(\n",
    "        {\n",
    "            \"text\": TEXT,\n",
    "            \"number\": NUMBER,\n",
    "            \"subject\":SUBJECT,\n",
    "            \"tone\": TONE,\n",
    "            \"response_json\": json.dumps(RESPONSE_JSON)\n",
    "        }\n",
    "        )"
   ]
  },
  {
   "cell_type": "code",
   "execution_count": 61,
   "metadata": {},
   "outputs": [
    {
     "name": "stdout",
     "output_type": "stream",
     "text": [
      "Total Tokens:2493\n",
      "Prompt Tokens:1736\n",
      "Completion Tokens:757\n",
      "Total Cost:0.004118\n"
     ]
    }
   ],
   "source": [
    "print(f\"Total Tokens:{cb.total_tokens}\")\n",
    "print(f\"Prompt Tokens:{cb.prompt_tokens}\")\n",
    "print(f\"Completion Tokens:{cb.completion_tokens}\")\n",
    "print(f\"Total Cost:{cb.total_cost}\")"
   ]
  },
  {
   "cell_type": "code",
   "execution_count": 62,
   "metadata": {},
   "outputs": [
    {
     "data": {
      "text/plain": [
       "{'text': 'Osmoregulation: \\nRegulation of solute and water concentration, maintenance of constant osmotic pressure. Part of homeostasis.\\nOsmoregulators: regulate osmotic pressure independent from environment\\nOsmoconformers: regulate osmotic pressure according to environment (jellyfish, mussels. Some can work better with changing salt concentrations around them)\\n\\n\\n\\nSalt glands\\n•\\tExcrete hypertonic substances with help of NaCl (costs ATP)\\n•\\tLocated in skull of some reptiles and most water birds\\n\\n\\n\\nNitrogenous waste\\nAre broken down to glucose and ammonia. \\nExcretion of \\n•\\tAmmonium: most aquatic animals and bony fishes. Highly poisonous, excretion (both active and passive) via kidneys and gills requires lots of water\\n•\\tUrea: Mammals, shark, some bony fishes, most amphibians. Less toxic than ammonium thus less water required for excretion. CO2 binds to ammonium in liver (energy-demanding) creating urea.\\n•\\tUric acid: Birds, insects, many reptiles, land snails. Relatively non-toxic, can be excreted as a semisolid paste (little water required). Costs a lot of energy.\\n\\n\\n\\nKidneys\\nPerfrom the following functions\\n•\\tTerminate waste products\\n•\\tRegulate pH and osmotic pressure of blood\\n•\\tCan change blood pressure\\n•\\tUrine is collected in the renal pelvis and leaves through ureter\\n•\\tFunctional section of kidney: Nephron\\n\\n\\nGlomerulus \\n•\\tHigh blood pressure in glomerulus\\n•\\tBlood pressure is regulated with help of hormone renine\\n•\\tUltrafiltration in glomerulus: Water soluble substances are pressed out of blood vessels in glomerulus (high blood pressure) and mix with water inside bowman´s capsule = preliminary urine (in humans ca. 150l/meal).\\n\\n\\n\\nUrine production\\nPreliminary urine is travelling through all these tubules and the loop of Henle. Ca. 99% of it is being reabsorbed into the interstitial fluid (both active and passive transport/water through osmosis), the rest ends as urine in the collecting duct, which leads to the renal pelvis.\\n\\n\\n\\n\\n\\nRAA-System\\nRAA stands for Renin Angiotensin Aldosterone. it perfroms the following functions \\n•\\tRegulates urine production and blood pressure\\n•\\tGlomerulus releases renin when blood pressure is low\\n•\\tRenin activates angiotensinogen in liver, which transforms it to angiotensin 1\\n•\\tLung cells convert angiotensin 1 into 2 with help of angiotensin converting enzyme (ACE)\\n•\\tAngiotensin 2 \\n1.\\tConstricts blood vessels (vasoconstriction)\\n2.\\tTriggers production of ADH (antidiuretic hormone): Makes kidneys release less water (and give back to blood), thus produce less urine\\n3.\\tTriggers production of aldosterone (adrenalin gland): Makes kidneys reabsorp salt, which also keeps water in kidneys\\n•\\tBlood volume increases through water -> blood pressure rises even more\\n\\n\\n',\n",
       " 'number': 10,\n",
       " 'subject': 'Biology',\n",
       " 'tone': 'hard',\n",
       " 'response_json': '{\"1\": {\"mcq\": \"multiple choice question\", \"options\": {\"a\": \"choice here\", \"b\": \"choice here\", \"c\": \"choice here\", \"d\": \"choice here\"}, \"correct\": \"correct answer\"}, \"2\": {\"mcq\": \"multiple choice question\", \"options\": {\"a\": \"choice here\", \"b\": \"choice here\", \"c\": \"choice here\", \"d\": \"choice here\"}, \"correct\": \"correct answer\"}, \"3\": {\"mcq\": \"multiple choice question\", \"options\": {\"a\": \"choice here\", \"b\": \"choice here\", \"c\": \"choice here\", \"d\": \"choice here\"}, \"correct\": \"correct answer\"}}',\n",
       " 'quiz': '{\\n\"1\": {\\n\"mcq\": \"What is the main function of osmoregulation?\",\\n\"options\": {\\n\"a\": \"Regulation of solute concentration only\",\\n\"b\": \"Maintenance of constant osmotic pressure only\",\\n\"c\": \"Regulation of solute and water concentration, maintenance of constant osmotic pressure\",\\n\"d\": \"Regulation of water concentration only\"\\n},\\n\"correct\": \"c\"\\n},\\n\"2\": {\\n\"mcq\": \"Which of the following organisms are osmoregulators?\",\\n\"options\": {\\n\"a\": \"Jellyfish\",\\n\"b\": \"Mussels\",\\n\"c\": \"Both Jellyfish and Mussels\",\\n\"d\": \"None of the above\"\\n},\\n\"correct\": \"d\"\\n},\\n\"3\": {\\n\"mcq\": \"Where are salt glands located in some reptiles and most water birds?\",\\n\"options\": {\\n\"a\": \"In the tail\",\\n\"b\": \"In the abdomen\",\\n\"c\": \"In the skull\",\\n\"d\": \"In the limbs\"\\n},\\n\"correct\": \"c\"\\n},\\n\"4\": {\\n\"mcq\": \"Which nitrogenous waste is excreted by most aquatic animals and bony fishes?\",\\n\"options\": {\\n\"a\": \"Ammonium\",\\n\"b\": \"Urea\",\\n\"c\": \"Uric acid\",\\n\"d\": \"Glucose\"\\n},\\n\"correct\": \"a\"\\n},\\n\"5\": {\\n\"mcq\": \"What is the functional unit of the kidney responsible for filtering blood and producing urine?\",\\n\"options\": {\\n\"a\": \"Nephron\",\\n\"b\": \"Glomerulus\",\\n\"c\": \"Renal pelvis\",\\n\"d\": \"Ureter\"\\n},\\n\"correct\": \"a\"\\n},\\n\"6\": {\\n\"mcq\": \"What is the purpose of the RAA system in the body?\",\\n\"options\": {\\n\"a\": \"Regulates heart rate\",\\n\"b\": \"Regulates urine production and blood pressure\",\\n\"c\": \"Regulates body temperature\",\\n\"d\": \"Regulates digestion\"\\n},\\n\"correct\": \"b\"\\n},\\n\"7\": {\\n\"mcq\": \"Which hormone triggers the production of ADH in response to low blood pressure?\",\\n\"options\": {\\n\"a\": \"Renin\",\\n\"b\": \"Angiotensin 1\",\\n\"c\": \"Angiotensin 2\",\\n\"d\": \"ADH\"\\n},\\n\"correct\": \"c\"\\n},\\n\"8\": {\\n\"mcq\": \"What is the function of aldosterone in the RAA system?\",\\n\"options\": {\\n\"a\": \"Triggers vasoconstriction\",\\n\"b\": \"Promotes water reabsorption in the kidneys\",\\n\"c\": \"Stimulates the production of renin\",\\n\"d\": \"Inhibits the production of ADH\"\\n},\\n\"correct\": \"b\"\\n},\\n\"9\": {\\n\"mcq\": \"What happens to blood pressure when Angiotensin 2 triggers the production of ADH?\",\\n\"options\": {\\n\"a\": \"Blood pressure decreases\",\\n\"b\": \"Blood pressure increases\",\\n\"c\": \"Blood pressure remains the same\",\\n\"d\": \"Blood pressure fluctuates\"\\n},\\n\"correct\": \"b\"\\n},\\n\"10\": {\\n\"mcq\": \"Which nitrogenous waste is excreted by birds, insects, and many reptiles?\",\\n\"options\": {\\n\"a\": \"Ammonium\",\\n\"b\": \"Urea\",\\n\"c\": \"Uric acid\",\\n\"d\": \"Glucose\"\\n},\\n\"correct\": \"c\"\\n}\\n}',\n",
       " 'review': 'The complexity of the quiz questions is suitable for biology students, testing their understanding of osmoregulation and related concepts. The questions are clear and concise, with appropriate difficulty levels. No changes are needed as the tone and content align well with student abilities.'}"
      ]
     },
     "execution_count": 62,
     "metadata": {},
     "output_type": "execute_result"
    }
   ],
   "source": [
    "response"
   ]
  },
  {
   "cell_type": "code",
   "execution_count": 63,
   "metadata": {},
   "outputs": [
    {
     "data": {
      "text/plain": [
       "{'1': {'mcq': 'What is the main function of osmoregulation?',\n",
       "  'options': {'a': 'Regulation of solute concentration only',\n",
       "   'b': 'Maintenance of constant osmotic pressure only',\n",
       "   'c': 'Regulation of solute and water concentration, maintenance of constant osmotic pressure',\n",
       "   'd': 'Regulation of water concentration only'},\n",
       "  'correct': 'c'},\n",
       " '2': {'mcq': 'Which of the following organisms are osmoregulators?',\n",
       "  'options': {'a': 'Jellyfish',\n",
       "   'b': 'Mussels',\n",
       "   'c': 'Both Jellyfish and Mussels',\n",
       "   'd': 'None of the above'},\n",
       "  'correct': 'd'},\n",
       " '3': {'mcq': 'Where are salt glands located in some reptiles and most water birds?',\n",
       "  'options': {'a': 'In the tail',\n",
       "   'b': 'In the abdomen',\n",
       "   'c': 'In the skull',\n",
       "   'd': 'In the limbs'},\n",
       "  'correct': 'c'},\n",
       " '4': {'mcq': 'Which nitrogenous waste is excreted by most aquatic animals and bony fishes?',\n",
       "  'options': {'a': 'Ammonium', 'b': 'Urea', 'c': 'Uric acid', 'd': 'Glucose'},\n",
       "  'correct': 'a'},\n",
       " '5': {'mcq': 'What is the functional unit of the kidney responsible for filtering blood and producing urine?',\n",
       "  'options': {'a': 'Nephron',\n",
       "   'b': 'Glomerulus',\n",
       "   'c': 'Renal pelvis',\n",
       "   'd': 'Ureter'},\n",
       "  'correct': 'a'},\n",
       " '6': {'mcq': 'What is the purpose of the RAA system in the body?',\n",
       "  'options': {'a': 'Regulates heart rate',\n",
       "   'b': 'Regulates urine production and blood pressure',\n",
       "   'c': 'Regulates body temperature',\n",
       "   'd': 'Regulates digestion'},\n",
       "  'correct': 'b'},\n",
       " '7': {'mcq': 'Which hormone triggers the production of ADH in response to low blood pressure?',\n",
       "  'options': {'a': 'Renin',\n",
       "   'b': 'Angiotensin 1',\n",
       "   'c': 'Angiotensin 2',\n",
       "   'd': 'ADH'},\n",
       "  'correct': 'c'},\n",
       " '8': {'mcq': 'What is the function of aldosterone in the RAA system?',\n",
       "  'options': {'a': 'Triggers vasoconstriction',\n",
       "   'b': 'Promotes water reabsorption in the kidneys',\n",
       "   'c': 'Stimulates the production of renin',\n",
       "   'd': 'Inhibits the production of ADH'},\n",
       "  'correct': 'b'},\n",
       " '9': {'mcq': 'What happens to blood pressure when Angiotensin 2 triggers the production of ADH?',\n",
       "  'options': {'a': 'Blood pressure decreases',\n",
       "   'b': 'Blood pressure increases',\n",
       "   'c': 'Blood pressure remains the same',\n",
       "   'd': 'Blood pressure fluctuates'},\n",
       "  'correct': 'b'},\n",
       " '10': {'mcq': 'Which nitrogenous waste is excreted by birds, insects, and many reptiles?',\n",
       "  'options': {'a': 'Ammonium', 'b': 'Urea', 'c': 'Uric acid', 'd': 'Glucose'},\n",
       "  'correct': 'c'}}"
      ]
     },
     "execution_count": 63,
     "metadata": {},
     "output_type": "execute_result"
    }
   ],
   "source": [
    "quiz=response.get(\"quiz\")\n",
    "json.loads(quiz)"
   ]
  },
  {
   "cell_type": "code",
   "execution_count": null,
   "metadata": {},
   "outputs": [],
   "source": []
  }
 ],
 "metadata": {
  "kernelspec": {
   "display_name": "Python 3",
   "language": "python",
   "name": "python3"
  },
  "language_info": {
   "codemirror_mode": {
    "name": "ipython",
    "version": 3
   },
   "file_extension": ".py",
   "mimetype": "text/x-python",
   "name": "python",
   "nbconvert_exporter": "python",
   "pygments_lexer": "ipython3",
   "version": "3.8.19"
  }
 },
 "nbformat": 4,
 "nbformat_minor": 2
}

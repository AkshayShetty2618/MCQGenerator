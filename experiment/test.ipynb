{
 "cells": [
  {
   "cell_type": "code",
   "execution_count": 1,
   "metadata": {},
   "outputs": [],
   "source": [
    "import os\n",
    "import json\n",
    "import pandas as pd\n",
    "import traceback\n",
    "from dotenv import load_dotenv"
   ]
  },
  {
   "cell_type": "code",
   "execution_count": 2,
   "metadata": {},
   "outputs": [],
   "source": [
    "from langchain.chat_models import ChatOpenAI\n",
    "from langchain.prompts import PromptTemplate\n",
    "from langchain.chains import LLMChain\n",
    "from langchain.chains import SequentialChain\n",
    "from langchain.callbacks import get_openai_callback\n",
    "import PyPDF2"
   ]
  },
  {
   "cell_type": "code",
   "execution_count": 3,
   "metadata": {},
   "outputs": [
    {
     "name": "stderr",
     "output_type": "stream",
     "text": [
      "e:\\GPT BootCamp\\OPENAI\\MCQGenerator\\env\\lib\\site-packages\\langchain_core\\_api\\deprecation.py:117: LangChainDeprecationWarning: The class `langchain_community.chat_models.openai.ChatOpenAI` was deprecated in langchain-community 0.0.10 and will be removed in 0.2.0. An updated version of the class exists in the langchain-openai package and should be used instead. To use it run `pip install -U langchain-openai` and import as `from langchain_openai import ChatOpenAI`.\n",
      "  warn_deprecated(\n"
     ]
    }
   ],
   "source": [
    "\n",
    "load_dotenv()\n",
    "KEY = os.getenv(\"OPENAI_API_KEY\") \n",
    "llm = ChatOpenAI(openai_api_key= KEY, model_name= \"gpt-3.5-turbo\", temperature =\"0.5\")"
   ]
  },
  {
   "cell_type": "code",
   "execution_count": 15,
   "metadata": {},
   "outputs": [],
   "source": [
    "RESPONSE_JSON = {\n",
    "    \"1\": {\n",
    "        \"mcq\": \"multiple choice question\",\n",
    "        \"options\": {\n",
    "            \"a\": \"choice here\",\n",
    "            \"b\": \"choice here\",\n",
    "            \"c\": \"choice here\",\n",
    "            \"d\": \"choice here\",\n",
    "        },\n",
    "        \"correct\": \"correct answer\",\n",
    "    },\n",
    "    \"2\": {\n",
    "        \"mcq\": \"multiple choice question\",\n",
    "        \"options\": {\n",
    "            \"a\": \"choice here\",\n",
    "            \"b\": \"choice here\",\n",
    "            \"c\": \"choice here\",\n",
    "            \"d\": \"choice here\",\n",
    "        },\n",
    "        \"correct\": \"correct answer\",\n",
    "    },\n",
    "    \"3\": {\n",
    "        \"mcq\": \"multiple choice question\",\n",
    "        \"options\": {\n",
    "            \"a\": \"choice here\",\n",
    "            \"b\": \"choice here\",\n",
    "            \"c\": \"choice here\",\n",
    "            \"d\": \"choice here\",\n",
    "        },\n",
    "        \"correct\": \"correct answer\",\n",
    "    },\n",
    "}"
   ]
  },
  {
   "cell_type": "markdown",
   "metadata": {},
   "source": [
    "# Physiology"
   ]
  },
  {
   "cell_type": "code",
   "execution_count": 15,
   "metadata": {},
   "outputs": [],
   "source": [
    "THEME = \"Respiratory\"\n",
    "TOPICS = [\"cells that carry out gas exchange\", \"Surfactants\", \"Asthama\", \"Pneumothorax\", \"how birds breathe\", \"how amphibians breathe\", \"how insects breathe\", \"Halden-shift\", \"Bohr-Shift\", \"Bronchiolies\",\n",
    "          \"Structure of the mamalian lung\", \"General Respiratory function\", \"Key component for respiration\"]"
   ]
  },
  {
   "cell_type": "code",
   "execution_count": 27,
   "metadata": {},
   "outputs": [],
   "source": [
    "THEME = \"Circulation\"\n",
    "TOPICS = [\"Open Circulatory Sytem\", \"Closed Circulatory Sytem\", \"Artery Vain\", \"Stages of heart pumping\", \"Diastole\", \"Systole\", \"Vasodialation\", \"Vasoconstriction\", \"Sinoatrial nodes\", \"Atrioventricular node\"]"
   ]
  },
  {
   "cell_type": "code",
   "execution_count": 41,
   "metadata": {},
   "outputs": [],
   "source": [
    "THEME = \"Excretion\"\n",
    "TOPICS = [\"Osmoregulation\", \"Salt Glands\", \"Byproducts of Nitrogen breakdown\", \"Functioning of Kidney\", \"Structure of Kidney\", \"RAA System\", \"Production of Urine\"]"
   ]
  },
  {
   "cell_type": "code",
   "execution_count": 53,
   "metadata": {},
   "outputs": [],
   "source": [
    "THEME = \"Homeostasis\"\n",
    "TOPICS = [\"Endocrine\", \"Nervous\", \"Mechanism of Homeostasis\", \"Feedback System in homeostasis\", \"Type of heat exchang\", \"Rhythms\", \"Minimum metabolic rate\", \"Torpor\", \"Homeotherm\", \"Poikilotherm\"]"
   ]
  },
  {
   "cell_type": "code",
   "execution_count": 65,
   "metadata": {},
   "outputs": [],
   "source": [
    "THEME = \"Endocrine System\"\n",
    "TOPICS = [\"Function of Endocrine cells\", \"Ways of communication\", \"Water soluble\", \"lipid soluble\", \"Single Endocrine Pathway\", \"Single neuroendocrine pathway\", \"Important Endocrine glands\", \"Gonad\", \"Hypothalamus\", \"Pineal\"]"
   ]
  },
  {
   "cell_type": "code",
   "execution_count": 77,
   "metadata": {},
   "outputs": [],
   "source": [
    "THEME = \"Nervous System\"\n",
    "TOPICS = [\"Central nervous system\", \"Peripheral nervous system \", \"Types of nervous system\", \"Glia Cells functionality\", \"Anatomy of the Brain\", \"Gray matter, Ventricles and White matter\", \"Cerebellum\", \"Cerebrum\", \"Brain Stem\", \"Diencephalon\", \"ways of communication\", \"Working of Sleep\", \"Brocas area and Wernickes area\", \"Reflexes\", \"memory functionality\"]"
   ]
  },
  {
   "cell_type": "code",
   "execution_count": 88,
   "metadata": {},
   "outputs": [],
   "source": [
    "THEME = \"Electrical Signalling\"\n",
    "TOPICS = [\"Neurons\", \"Potential around membarane\", \"Depolarozation\", \"Myelin Sheath\", \"Synamptic transmission\", \"Schwan cells\", \"Action potential\", \"Rest potential\"]"
   ]
  },
  {
   "cell_type": "markdown",
   "metadata": {},
   "source": [
    "# Cell Bilogy"
   ]
  },
  {
   "cell_type": "code",
   "execution_count": 99,
   "metadata": {},
   "outputs": [],
   "source": [
    "THEME = \"Cell Structure\"\n",
    "TOPICS = [\"Plasma Membrane\", \"Passive cell transport\", \"Active Cell Transport\", \"Na-K pump working\", \"Exo and Endocytosis\", \"Nucleus\", \"Ribosome\", \"Endoplasmic reticulum\", \"Golgi apparatus\", \"Lysosome\", \"Mitochondrion\", \"Chloroplast\", \"Cytoskeleton\", \"Flagella, cilia\", \"Tight junctions, desmosomes, gap junctions \"]"
   ]
  },
  {
   "cell_type": "code",
   "execution_count": 111,
   "metadata": {},
   "outputs": [],
   "source": [
    "THEME = \"Cellular Signalling\"\n",
    "TOPICS = [\"Direct Communication\", \"Local Communication\", \"Three stages of cellular signalling\", \"membrane receptors\", \"GPCR G-protien\", \"RTK Receptor Tyrosine Kinases\", \"Ion channel receptors\", \"Intracellular receptors\", \"Phosphorylation cascade (initiated by cAMP)\",\n",
    "          \"Cyclic AMP\", \"Calcium ions\"]"
   ]
  },
  {
   "cell_type": "markdown",
   "metadata": {},
   "source": [
    "# Immunology"
   ]
  },
  {
   "cell_type": "code",
   "execution_count": 123,
   "metadata": {},
   "outputs": [],
   "source": [
    "THEME = \"Innate Immunology\"\n",
    "TOPICS = [\"Function of immune system\", \"Defense Barriers\", \"Immune Cells\", \"Basophil and Neutrophil\", \"Macrophages and dendritic cells \", \"Phagocytosis\", \"Granulocytes\"]"
   ]
  },
  {
   "cell_type": "code",
   "execution_count": 5,
   "metadata": {},
   "outputs": [],
   "source": [
    "THEME = \"Adaptive Immunology\"\n",
    "TOPICS = [\"Humoral immune response\", \"Cell-mediated immune response\", \"four characteristics of adaptive immune system\", \"T Cell functionlity\", \"B Cell Functionality\", \"Immunization\", \"Active and passive immunity\"]"
   ]
  },
  {
   "cell_type": "markdown",
   "metadata": {},
   "source": [
    "# Stress"
   ]
  },
  {
   "cell_type": "code",
   "execution_count": 16,
   "metadata": {},
   "outputs": [],
   "source": [
    "THEME = \"Stree Physilogy\"\n",
    "TOPICS = [\"Stress functioning\", \"Factors for stress\", \"Allostasis\", \"SAM system\", \"HPA System\", \"Effect of glucose\", \"pancreas during stress\", \"Effects on Adrenalin\", \"cortisol\", \"Reactive Response\", \"Proactive response\", \"Idicators for stress\", \"Chronic stress\", \"Quantitative Measure\"]"
   ]
  },
  {
   "cell_type": "markdown",
   "metadata": {},
   "source": [
    "# Code"
   ]
  },
  {
   "cell_type": "code",
   "execution_count": 17,
   "metadata": {},
   "outputs": [],
   "source": [
    "\n",
    "TEMPLATE0=\"\"\"\n",
    "With respect to the {theme} system, generate short descriptions not exceeding 40 words on each of the following topics {topics}.\n",
    "\"\"\"\n",
    "\n",
    "prompt_template = PromptTemplate(\n",
    "    input_variables = [\"theme\", \"topics\"],\n",
    "    template = TEMPLATE0\n",
    ")"
   ]
  },
  {
   "cell_type": "code",
   "execution_count": 18,
   "metadata": {},
   "outputs": [],
   "source": [
    "firstChain = LLMChain(llm = llm, prompt = prompt_template, output_key = \"text\", verbose= True)"
   ]
  },
  {
   "cell_type": "code",
   "execution_count": 19,
   "metadata": {},
   "outputs": [],
   "source": [
    "TEMPLATE1=\"\"\"\n",
    "Text:{text}\n",
    "You are an expert MCQ maker. Given the above text, it is your job to \\\n",
    "create a quiz  of {number} multiple choice questions for {subject} students in {tone} tone. \n",
    "Make sure the questions are not repeated and check all the questions to be conforming the text as well.\n",
    "Make sure to format your response like  RESPONSE_JSON below  and use it as a guide. \\\n",
    "Ensure to make {number} MCQs\n",
    "### RESPONSE_JSON\n",
    "{response_json}\n",
    "\"\"\"\n",
    "\n",
    "# tonme: Difficulty level of the question : simple| intermediate| Hard"
   ]
  },
  {
   "cell_type": "code",
   "execution_count": 20,
   "metadata": {},
   "outputs": [],
   "source": [
    "prompt_template = PromptTemplate(\n",
    "    input_variables = [\"text\",\"number\",\"subject\",\"tone\",\"response_json\"],\n",
    "    template = TEMPLATE1\n",
    ")"
   ]
  },
  {
   "cell_type": "code",
   "execution_count": 21,
   "metadata": {},
   "outputs": [],
   "source": [
    "secondchain = LLMChain(llm = llm, prompt = prompt_template, output_key = \"quiz\", verbose= True)"
   ]
  },
  {
   "cell_type": "code",
   "execution_count": 71,
   "metadata": {},
   "outputs": [],
   "source": [
    "TEMPLATE2=\"\"\"\n",
    "You are an expert english grammarian and writer. Given a Multiple Choice Quiz for {subject} students.\\\n",
    "You need to evaluate the complexity of the question and give a complete analysis of the quiz. Only use at max 50 words for complexity analysis. \n",
    "if the quiz is not at per with the cognitive and analytical abilities of the students,\\\n",
    "update the quiz questions which needs to be changed and change the tone such that it perfectly fits the student abilities\n",
    "Quiz_MCQs:\n",
    "{quiz}\n",
    "\n",
    "Check from an expert English Writer of the above quiz:\n",
    "\"\"\""
   ]
  },
  {
   "cell_type": "code",
   "execution_count": 10,
   "metadata": {},
   "outputs": [],
   "source": [
    "#quiz_evaluation_prompt=PromptTemplate(input_variables=[\"subject\", \"quiz\"], template=TEMPLATE2)"
   ]
  },
  {
   "cell_type": "code",
   "execution_count": 11,
   "metadata": {},
   "outputs": [],
   "source": [
    "#evalChain = LLMChain(llm=llm, prompt= quiz_evaluation_prompt, output_key= \"review\", verbose= True)"
   ]
  },
  {
   "cell_type": "code",
   "execution_count": null,
   "metadata": {},
   "outputs": [],
   "source": [
    "#seqChain = SequentialChain(chains = [firstChain, secondchain], input_variables=[\"text\",\"number\",\"subject\",\"tone\",\"response_json\"],output_variables=[\"quiz\", \"response\"], verbose = True)"
   ]
  },
  {
   "cell_type": "code",
   "execution_count": 22,
   "metadata": {},
   "outputs": [],
   "source": [
    "seqChain = SequentialChain(chains = [firstChain, secondchain], input_variables=[\"theme\",\"topics\",\"number\",\"subject\",\"tone\",\"response_json\"],\n",
    "                           output_variables=[\"text\", \"quiz\"], verbose = True)"
   ]
  },
  {
   "cell_type": "code",
   "execution_count": 106,
   "metadata": {},
   "outputs": [],
   "source": [
    "#filePath = r\"E:\\GPT BootCamp\\OPENAI\\MCQGenerator\\Excretion.txt\"\n",
    "\n",
    "#with open(filePath, 'r') as file:\n",
    "    TEXT = file.read()"
   ]
  },
  {
   "cell_type": "code",
   "execution_count": null,
   "metadata": {},
   "outputs": [],
   "source": [
    "#print(TEXT)"
   ]
  },
  {
   "cell_type": "code",
   "execution_count": 23,
   "metadata": {},
   "outputs": [],
   "source": [
    "json.dumps(RESPONSE_JSON)\n",
    "\n",
    "NUMBER=10\n",
    "SUBJECT=\"Biology\"\n",
    "TONE=\"hard\""
   ]
  },
  {
   "cell_type": "code",
   "execution_count": null,
   "metadata": {},
   "outputs": [],
   "source": [
    "#with get_openai_callback() as cb:\n",
    "    response=seqChain(\n",
    "        {\n",
    "            \"theme\":TEXT,\n",
    "            \"number\": NUMBER,\n",
    "            \"subject\":SUBJECT,\n",
    "            \"tone\": TONE,\n",
    "            \"response_json\": json.dumps(RESPONSE_JSON)\n",
    "        }\n",
    "        )"
   ]
  },
  {
   "cell_type": "code",
   "execution_count": 24,
   "metadata": {},
   "outputs": [
    {
     "name": "stdout",
     "output_type": "stream",
     "text": [
      "\n",
      "\n",
      "\u001b[1m> Entering new SequentialChain chain...\u001b[0m\n",
      "\n",
      "\n",
      "\u001b[1m> Entering new LLMChain chain...\u001b[0m\n",
      "Prompt after formatting:\n",
      "\u001b[32;1m\u001b[1;3m\n",
      "With respect to the Stree Physilogy system, generate short descriptions not exceeding 40 words on each of the following topics ['Stress functioning', 'Factors for stress', 'Allostasis', 'SAM system', 'HPA System', 'Effect of glucose', 'pancreas during stress', 'Effects on Adrenalin', 'cortisol', 'Reactive Response', 'Proactive response', 'Idicators for stress', 'Chronic stress', 'Quantitative Measure'].\n",
      "\u001b[0m\n",
      "\n",
      "\u001b[1m> Finished chain.\u001b[0m\n",
      "\n",
      "\n",
      "\u001b[1m> Entering new LLMChain chain...\u001b[0m\n",
      "Prompt after formatting:\n",
      "\u001b[32;1m\u001b[1;3m\n",
      "Text:- Stress functioning: The body's response to perceived threats, activating physiological changes to help cope with the situation.\n",
      "- Factors for stress: Environmental, psychological, and physical factors that can trigger the stress response.\n",
      "- Allostasis: The body's ability to maintain stability through change, adjusting to stressors to maintain balance.\n",
      "- SAM system: The sympathetic-adrenal-medullary system, releasing adrenaline and noradrenaline in response to stress.\n",
      "- HPA System: The hypothalamic-pituitary-adrenal system, releasing cortisol in response to stress to regulate energy and immune function.\n",
      "- Effect of glucose: Stress can cause an increase in glucose levels to provide energy for the body's response.\n",
      "- Pancreas during stress: The pancreas releases insulin to regulate blood sugar levels during stress.\n",
      "- Effects on Adrenalin: Adrenaline is released during stress, increasing heart rate and blood flow to muscles for a fight-or-flight response.\n",
      "- Cortisol: A stress hormone released by the adrenal glands, regulating metabolism and immune function in response to stress.\n",
      "- Reactive Response: Immediate response to stress, activating physiological changes to deal with the perceived threat.\n",
      "- Proactive response: Anticipatory response to stress, preparing the body for potential threats before they occur.\n",
      "- Indicators for stress: Physical symptoms, behavioral changes, and emotional responses that signal the presence of stress.\n",
      "- Chronic stress: Prolonged exposure to stress, leading to negative health effects such as increased risk of chronic diseases.\n",
      "- Quantitative Measure: Assessing stress levels through measurements such as cortisol levels, heart rate variability, and self-reported stress scales.\n",
      "You are an expert MCQ maker. Given the above text, it is your job to create a quiz  of 10 multiple choice questions for Biology students in hard tone. \n",
      "Make sure the questions are not repeated and check all the questions to be conforming the text as well.\n",
      "Make sure to format your response like  RESPONSE_JSON below  and use it as a guide. Ensure to make 10 MCQs\n",
      "### RESPONSE_JSON\n",
      "{\"1\": {\"mcq\": \"multiple choice question\", \"options\": {\"a\": \"choice here\", \"b\": \"choice here\", \"c\": \"choice here\", \"d\": \"choice here\"}, \"correct\": \"correct answer\"}, \"2\": {\"mcq\": \"multiple choice question\", \"options\": {\"a\": \"choice here\", \"b\": \"choice here\", \"c\": \"choice here\", \"d\": \"choice here\"}, \"correct\": \"correct answer\"}, \"3\": {\"mcq\": \"multiple choice question\", \"options\": {\"a\": \"choice here\", \"b\": \"choice here\", \"c\": \"choice here\", \"d\": \"choice here\"}, \"correct\": \"correct answer\"}}\n",
      "\u001b[0m\n",
      "\n",
      "\u001b[1m> Finished chain.\u001b[0m\n",
      "\n",
      "\u001b[1m> Finished chain.\u001b[0m\n"
     ]
    }
   ],
   "source": [
    "with get_openai_callback() as cb:\n",
    "    response=seqChain(\n",
    "        {\n",
    "            \"theme\":THEME,\n",
    "            \"topics\": TOPICS,\n",
    "            \"number\": NUMBER,\n",
    "            \"subject\":SUBJECT,\n",
    "            \"tone\": TONE,\n",
    "            \"response_json\": json.dumps(RESPONSE_JSON)\n",
    "        }\n",
    "        )"
   ]
  },
  {
   "cell_type": "code",
   "execution_count": 61,
   "metadata": {},
   "outputs": [
    {
     "name": "stdout",
     "output_type": "stream",
     "text": [
      "Total Tokens:2493\n",
      "Prompt Tokens:1736\n",
      "Completion Tokens:757\n",
      "Total Cost:0.004118\n"
     ]
    }
   ],
   "source": [
    "print(f\"Total Tokens:{cb.total_tokens}\")\n",
    "print(f\"Prompt Tokens:{cb.prompt_tokens}\")\n",
    "print(f\"Completion Tokens:{cb.completion_tokens}\")\n",
    "print(f\"Total Cost:{cb.total_cost}\")"
   ]
  },
  {
   "cell_type": "code",
   "execution_count": 133,
   "metadata": {},
   "outputs": [
    {
     "data": {
      "text/plain": [
       "{'theme': 'Innate Immunology',\n",
       " 'topics': ['Function of immune system',\n",
       "  'Defense Barriers',\n",
       "  'Immune Cells',\n",
       "  'Basophil and Neutrophil',\n",
       "  'Macrophages and dendritic cells ',\n",
       "  'Phagocytosis',\n",
       "  'Granulocytes'],\n",
       " 'number': 10,\n",
       " 'subject': 'Biology',\n",
       " 'tone': 'hard',\n",
       " 'response_json': '{\"1\": {\"mcq\": \"multiple choice question\", \"options\": {\"a\": \"choice here\", \"b\": \"choice here\", \"c\": \"choice here\", \"d\": \"choice here\"}, \"correct\": \"correct answer\"}, \"2\": {\"mcq\": \"multiple choice question\", \"options\": {\"a\": \"choice here\", \"b\": \"choice here\", \"c\": \"choice here\", \"d\": \"choice here\"}, \"correct\": \"correct answer\"}, \"3\": {\"mcq\": \"multiple choice question\", \"options\": {\"a\": \"choice here\", \"b\": \"choice here\", \"c\": \"choice here\", \"d\": \"choice here\"}, \"correct\": \"correct answer\"}}',\n",
       " 'text': '- Function of immune system: The immune system protects the body from harmful pathogens by recognizing and destroying them, as well as remembering previous encounters to mount a quicker response in the future.\\n- Defense Barriers: Physical barriers like skin and mucous membranes, as well as chemical barriers like stomach acid and enzymes, form the first line of defense against invading pathogens.\\n- Immune Cells: White blood cells, such as lymphocytes, macrophages, and neutrophils, are key players in the immune system, working together to identify and eliminate pathogens.\\n- Basophil and Neutrophil: Basophils release histamine to trigger inflammation, while neutrophils are the most abundant type of white blood cell and are essential for engulfing and destroying pathogens.\\n- Macrophages and dendritic cells: Macrophages are large white blood cells that engulf and digest pathogens, while dendritic cells present antigens to activate other immune cells in the body.\\n- Phagocytosis: The process by which immune cells engulf and digest foreign particles, such as bacteria and viruses, to eliminate them from the body and prevent infection.\\n- Granulocytes: A type of white blood cell containing granules filled with enzymes and other substances that help in the destruction of pathogens through processes like phagocytosis and degranulation.',\n",
       " 'quiz': '\\n### RESPONSE_JSON\\n{\\n    \"1\": {\\n        \"mcq\": \"Which type of white blood cell releases histamine to trigger inflammation?\",\\n        \"options\": {\"a\": \"Lymphocytes\", \"b\": \"Macrophages\", \"c\": \"Basophils\", \"d\": \"Neutrophils\"},\\n        \"correct\": \"c\"\\n    },\\n    \"2\": {\\n        \"mcq\": \"What are the first line of defense barriers against invading pathogens?\",\\n        \"options\": {\"a\": \"White blood cells\", \"b\": \"Enzymes\", \"c\": \"Skin and mucous membranes\", \"d\": \"Stomach acid\"},\\n        \"correct\": \"c\"\\n    },\\n    \"3\": {\\n        \"mcq\": \"Which white blood cell is essential for engulfing and destroying pathogens?\",\\n        \"options\": {\"a\": \"Macrophages\", \"b\": \"Lymphocytes\", \"c\": \"Neutrophils\", \"d\": \"Dendritic cells\"},\\n        \"correct\": \"c\"\\n    },\\n    \"4\": {\\n        \"mcq\": \"What is the process by which immune cells engulf and digest foreign particles?\",\\n        \"options\": {\"a\": \"Phagocytosis\", \"b\": \"Inflammation\", \"c\": \"Antigen presentation\", \"d\": \"Degranulation\"},\\n        \"correct\": \"a\"\\n    },\\n    \"5\": {\\n        \"mcq\": \"Which type of white blood cell contains granules filled with enzymes to help in the destruction of pathogens?\",\\n        \"options\": {\"a\": \"Lymphocytes\", \"b\": \"Macrophages\", \"c\": \"Neutrophils\", \"d\": \"Granulocytes\"},\\n        \"correct\": \"d\"\\n    },\\n    \"6\": {\\n        \"mcq\": \"Which white blood cell presents antigens to activate other immune cells in the body?\",\\n        \"options\": {\"a\": \"Dendritic cells\", \"b\": \"Macrophages\", \"c\": \"Neutrophils\", \"d\": \"Basophils\"},\\n        \"correct\": \"a\"\\n    },\\n    \"7\": {\\n        \"mcq\": \"What is the function of the immune system?\",\\n        \"options\": {\"a\": \"To cause inflammation\", \"b\": \"To remember previous encounters\", \"c\": \"To destroy healthy cells\", \"d\": \"To protect the body from harmful pathogens\"},\\n        \"correct\": \"d\"\\n    },\\n    \"8\": {\\n        \"mcq\": \"Which white blood cell is the most abundant type and is essential for engulfing and destroying pathogens?\",\\n        \"options\": {\"a\": \"Macrophages\", \"b\": \"Lymphocytes\", \"c\": \"Neutrophils\", \"d\": \"Dendritic cells\"},\\n        \"correct\": \"c\"\\n    },\\n    \"9\": {\\n        \"mcq\": \"What do basophils release to trigger inflammation?\",\\n        \"options\": {\"a\": \"Enzymes\", \"b\": \"Histamine\", \"c\": \"Antigens\", \"d\": \"Antibodies\"},\\n        \"correct\": \"b\"\\n    },\\n    \"10\": {\\n        \"mcq\": \"Which type of white blood cell engulfs and digests pathogens?\",\\n        \"options\": {\"a\": \"Lymphocytes\", \"b\": \"Macrophages\", \"c\": \"Neutrophils\", \"d\": \"Basophils\"},\\n        \"correct\": \"b\"\\n    }\\n}'}"
      ]
     },
     "execution_count": 133,
     "metadata": {},
     "output_type": "execute_result"
    }
   ],
   "source": [
    "response"
   ]
  },
  {
   "cell_type": "code",
   "execution_count": 25,
   "metadata": {},
   "outputs": [
    {
     "data": {
      "text/plain": [
       "{'1': {'mcq': 'What system releases adrenaline and noradrenaline in response to stress?',\n",
       "  'options': {'a': 'SAM system',\n",
       "   'b': 'HPA system',\n",
       "   'c': 'Pancreas',\n",
       "   'd': 'Adrenal glands'},\n",
       "  'correct': 'a'},\n",
       " '2': {'mcq': \"What is the body's response to perceived threats, activating physiological changes to help cope with the situation?\",\n",
       "  'options': {'a': 'Allostasis',\n",
       "   'b': 'Reactive Response',\n",
       "   'c': 'Proactive Response',\n",
       "   'd': 'Stress functioning'},\n",
       "  'correct': 'd'},\n",
       " '3': {'mcq': 'Which hormone is released by the adrenal glands to regulate metabolism and immune function in response to stress?',\n",
       "  'options': {'a': 'Insulin',\n",
       "   'b': 'Cortisol',\n",
       "   'c': 'Adrenaline',\n",
       "   'd': 'Noradrenaline'},\n",
       "  'correct': 'b'},\n",
       " '4': {'mcq': 'What type of response is an anticipatory response to stress, preparing the body for potential threats before they occur?',\n",
       "  'options': {'a': 'Reactive Response',\n",
       "   'b': 'Proactive Response',\n",
       "   'c': 'Allostasis',\n",
       "   'd': 'SAM system'},\n",
       "  'correct': 'b'},\n",
       " '5': {'mcq': 'Which system releases cortisol in response to stress to regulate energy and immune function?',\n",
       "  'options': {'a': 'SAM system',\n",
       "   'b': 'HPA system',\n",
       "   'c': 'Pancreas',\n",
       "   'd': 'Adrenal glands'},\n",
       "  'correct': 'b'},\n",
       " '6': {'mcq': 'What is the effect of stress on glucose levels in the body?',\n",
       "  'options': {'a': 'Decrease',\n",
       "   'b': 'No effect',\n",
       "   'c': 'Increase',\n",
       "   'd': 'Stable'},\n",
       "  'correct': 'c'},\n",
       " '7': {'mcq': 'What is the purpose of the pancreas during stress?',\n",
       "  'options': {'a': 'Release cortisol',\n",
       "   'b': 'Regulate blood sugar levels',\n",
       "   'c': 'Increase heart rate',\n",
       "   'd': 'Release adrenaline'},\n",
       "  'correct': 'b'},\n",
       " '8': {'mcq': 'What is the main function of adrenaline during stress?',\n",
       "  'options': {'a': 'Regulate metabolism',\n",
       "   'b': 'Regulate immune function',\n",
       "   'c': 'Increase heart rate and blood flow to muscles',\n",
       "   'd': 'Maintain stability'},\n",
       "  'correct': 'c'},\n",
       " '9': {'mcq': 'What is the term for prolonged exposure to stress, leading to negative health effects?',\n",
       "  'options': {'a': 'Reactive Response',\n",
       "   'b': 'Proactive Response',\n",
       "   'c': 'Chronic stress',\n",
       "   'd': 'Allostasis'},\n",
       "  'correct': 'c'},\n",
       " '10': {'mcq': 'How can stress levels be assessed quantitatively?',\n",
       "  'options': {'a': 'Self-reported stress scales',\n",
       "   'b': 'Heart rate variability',\n",
       "   'c': 'Cortisol levels',\n",
       "   'd': 'All of the above'},\n",
       "  'correct': 'd'}}"
      ]
     },
     "execution_count": 25,
     "metadata": {},
     "output_type": "execute_result"
    }
   ],
   "source": [
    "quiz=response.get(\"quiz\")\n",
    "json.loads(quiz)"
   ]
  },
  {
   "cell_type": "code",
   "execution_count": 63,
   "metadata": {},
   "outputs": [
    {
     "data": {
      "text/plain": [
       "'\\n{\\n\"1\": {\\n\"mcq\": \"Which system regulates homeostasis through the release of hormones?\",\\n\"options\": {\\n\"a\": \"Nervous system\",\\n\"b\": \"Endocrine system\",\\n\"c\": \"Muscular system\",\\n\"d\": \"Skeletal system\"\\n},\\n\"correct\": \"b\"\\n},\\n\"2\": {\\n\"mcq\": \"What is the main function of the nervous system in maintaining homeostasis?\",\\n\"options\": {\\n\"a\": \"Regulating heart rate\",\\n\"b\": \"Releasing hormones\",\\n\"c\": \"Controlling metabolism\",\\n\"d\": \"Regulating body temperature\"\\n},\\n\"correct\": \"a\"\\n},\\n\"3\": {\\n\"mcq\": \"How is homeostasis maintained in the body?\",\\n\"options\": {\\n\"a\": \"Through the release of enzymes\",\\n\"b\": \"By continuously monitoring and adjusting internal conditions\",\\n\"c\": \"By increasing external temperature\",\\n\"d\": \"By decreasing oxygen intake\"\\n},\\n\"correct\": \"b\"\\n},\\n\"4\": {\\n\"mcq\": \"What is involved in the feedback system of homeostasis?\",\\n\"options\": {\\n\"a\": \"Sensors, control center, and effectors\",\\n\"b\": \"Brain, lungs, and kidneys\",\\n\"c\": \"Heart, liver, and pancreas\",\\n\"d\": \"Muscles, bones, and skin\"\\n},\\n\"correct\": \"a\"\\n},\\n\"5\": {\\n\"mcq\": \"Which type of heat exchange helps regulate body temperature in the body?\",\\n\"options\": {\\n\"a\": \"Conduction\",\\n\"b\": \"Digestion\",\\n\"c\": \"Photosynthesis\",\\n\"d\": \"Respiration\"\\n},\\n\"correct\": \"a\"\\n},\\n\"6\": {\\n\"mcq\": \"What do biological rhythms regulate in the body?\",\\n\"options\": {\\n\"a\": \"Blood pressure\",\\n\"b\": \"Sleep-wake cycles\",\\n\"c\": \"Muscle growth\",\\n\"d\": \"Digestive system\"\\n},\\n\"correct\": \"b\"\\n},\\n\"7\": {\\n\"mcq\": \"What is the minimum metabolic rate responsible for?\",\\n\"options\": {\\n\"a\": \"Regulating body temperature\",\\n\"b\": \"Maintaining basic bodily functions at rest\",\\n\"c\": \"Controlling heart rate\",\\n\"d\": \"Producing hormones\"\\n},\\n\"correct\": \"b\"\\n},\\n\"8\": {\\n\"mcq\": \"What is torpor used for in animals?\",\\n\"options\": {\\n\"a\": \"Increasing metabolic activity\",\\n\"b\": \"Regulating body temperature\",\\n\"c\": \"Conserving energy during food scarcity\",\\n\"d\": \"Aiding in reproduction\"\\n},\\n\"correct\": \"c\"\\n},\\n\"9\": {\\n\"mcq\": \"What do homeotherms do to maintain a constant internal environment?\",\\n\"options\": {\\n\"a\": \"Regulate body temperature internally\",\\n\"b\": \"Fluctuate body temperature with external environment\",\\n\"c\": \"Hibernate during winter\",\\n\"d\": \"Seek shade during hot weather\"\\n},\\n\"correct\": \"a\"\\n},\\n\"10\": {\\n\"mcq\": \"What behavior do poikilotherms exhibit to maintain homeostasis?\",\\n\"options\": {\\n\"a\": \"Regulate body temperature internally\",\\n\"b\": \"Fluctuate body temperature with external environment\",\\n\"c\": \"Hibernate during winter\",\\n\"d\": \"Seek shade during hot weather\"\\n},\\n\"correct\": \"b\"\\n}\\n}'"
      ]
     },
     "execution_count": 63,
     "metadata": {},
     "output_type": "execute_result"
    }
   ],
   "source": [
    "quiz"
   ]
  },
  {
   "cell_type": "code",
   "execution_count": null,
   "metadata": {},
   "outputs": [],
   "source": []
  }
 ],
 "metadata": {
  "kernelspec": {
   "display_name": "Python 3",
   "language": "python",
   "name": "python3"
  },
  "language_info": {
   "codemirror_mode": {
    "name": "ipython",
    "version": 3
   },
   "file_extension": ".py",
   "mimetype": "text/x-python",
   "name": "python",
   "nbconvert_exporter": "python",
   "pygments_lexer": "ipython3",
   "version": "3.8.19"
  }
 },
 "nbformat": 4,
 "nbformat_minor": 2
}

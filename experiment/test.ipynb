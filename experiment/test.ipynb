{
 "cells": [
  {
   "cell_type": "code",
   "execution_count": 25,
   "metadata": {},
   "outputs": [],
   "source": [
    "import os\n",
    "import json\n",
    "import pandas as pd\n",
    "import traceback\n",
    "from dotenv import load_dotenv"
   ]
  },
  {
   "cell_type": "code",
   "execution_count": 26,
   "metadata": {},
   "outputs": [],
   "source": [
    "from langchain.chat_models import ChatOpenAI\n",
    "from langchain.prompts import PromptTemplate\n",
    "from langchain.chains import LLMChain\n",
    "from langchain.chains import SequentialChain\n",
    "from langchain.callbacks import get_openai_callback\n",
    "import PyPDF2"
   ]
  },
  {
   "cell_type": "code",
   "execution_count": 27,
   "metadata": {},
   "outputs": [],
   "source": [
    "\n",
    "load_dotenv()\n",
    "KEY = os.getenv(\"OPENAI_API_KEY\") \n",
    "llm = ChatOpenAI(openai_api_key= KEY, model_name= \"gpt-3.5-turbo\", temperature =\"0.5\")"
   ]
  },
  {
   "cell_type": "code",
   "execution_count": 28,
   "metadata": {},
   "outputs": [],
   "source": [
    "RESPONSE_JSON = {\n",
    "    \"1\": {\n",
    "        \"mcq\": \"multiple choice question\",\n",
    "        \"options\": {\n",
    "            \"a\": \"choice here\",\n",
    "            \"b\": \"choice here\",\n",
    "            \"c\": \"choice here\",\n",
    "            \"d\": \"choice here\",\n",
    "        },\n",
    "        \"correct\": \"correct answer\",\n",
    "    },\n",
    "    \"2\": {\n",
    "        \"mcq\": \"multiple choice question\",\n",
    "        \"options\": {\n",
    "            \"a\": \"choice here\",\n",
    "            \"b\": \"choice here\",\n",
    "            \"c\": \"choice here\",\n",
    "            \"d\": \"choice here\",\n",
    "        },\n",
    "        \"correct\": \"correct answer\",\n",
    "    },\n",
    "    \"3\": {\n",
    "        \"mcq\": \"multiple choice question\",\n",
    "        \"options\": {\n",
    "            \"a\": \"choice here\",\n",
    "            \"b\": \"choice here\",\n",
    "            \"c\": \"choice here\",\n",
    "            \"d\": \"choice here\",\n",
    "        },\n",
    "        \"correct\": \"correct answer\",\n",
    "    },\n",
    "}"
   ]
  },
  {
   "cell_type": "code",
   "execution_count": 29,
   "metadata": {},
   "outputs": [],
   "source": [
    "TEMPLATE=\"\"\"\n",
    "Text:{text}\n",
    "You are an expert MCQ maker. Given the above text, it is your job to \\\n",
    "create a quiz  of {number} multiple choice questions for {subject} students in {tone} tone. \n",
    "Make sure the questions are not repeated and check all the questions to be conforming the text as well.\n",
    "Make sure to format your response like  RESPONSE_JSON below  and use it as a guide. \\\n",
    "Ensure to make {number} MCQs\n",
    "### RESPONSE_JSON\n",
    "{response_json}\n",
    "\"\"\"\n",
    "\n",
    "# tonme: Difficulty level of the question : simple| intermediate| Hard"
   ]
  },
  {
   "cell_type": "code",
   "execution_count": 30,
   "metadata": {},
   "outputs": [],
   "source": [
    "prompt_template = PromptTemplate(\n",
    "    input_variables = [\"text\",\"number\",\"subject\",\"tone\",\"response_json\"],\n",
    "    template = TEMPLATE\n",
    ")"
   ]
  },
  {
   "cell_type": "code",
   "execution_count": 31,
   "metadata": {},
   "outputs": [],
   "source": [
    "chain = LLMChain(llm = llm, prompt = prompt_template, output_key = \"quiz\", verbose= True)"
   ]
  },
  {
   "cell_type": "code",
   "execution_count": 32,
   "metadata": {},
   "outputs": [],
   "source": [
    "TEMPLATE2=\"\"\"\n",
    "You are an expert english grammarian and writer. Given a Multiple Choice Quiz for {subject} students.\\\n",
    "You need to evaluate the complexity of the question and give a complete analysis of the quiz. Only use at max 50 words for complexity analysis. \n",
    "if the quiz is not at per with the cognitive and analytical abilities of the students,\\\n",
    "update the quiz questions which needs to be changed and change the tone such that it perfectly fits the student abilities\n",
    "Quiz_MCQs:\n",
    "{quiz}\n",
    "\n",
    "Check from an expert English Writer of the above quiz:\n",
    "\"\"\""
   ]
  },
  {
   "cell_type": "code",
   "execution_count": 33,
   "metadata": {},
   "outputs": [],
   "source": [
    "quiz_evaluation_prompt=PromptTemplate(input_variables=[\"subject\", \"quiz\"], template=TEMPLATE2)"
   ]
  },
  {
   "cell_type": "code",
   "execution_count": 34,
   "metadata": {},
   "outputs": [],
   "source": [
    "evalChain = LLMChain(llm=llm, prompt= quiz_evaluation_prompt, output_key= \"review\", verbose= True)"
   ]
  },
  {
   "cell_type": "code",
   "execution_count": 35,
   "metadata": {},
   "outputs": [],
   "source": [
    "seqChain = SequentialChain(chains = [chain, evalChain], input_variables=[\"text\",\"number\",\"subject\",\"tone\",\"response_json\"],\n",
    "                           output_variables=[\"quiz\", \"review\"], verbose = True)"
   ]
  },
  {
   "cell_type": "code",
   "execution_count": 43,
   "metadata": {},
   "outputs": [],
   "source": [
    "filePath = r\"E:\\GPT BootCamp\\OPENAI\\MCQGenerator\\data.txt\"\n",
    "\n",
    "with open(filePath, 'r') as file:\n",
    "    TEXT = file.read()"
   ]
  },
  {
   "cell_type": "code",
   "execution_count": 44,
   "metadata": {},
   "outputs": [
    {
     "name": "stdout",
     "output_type": "stream",
     "text": [
      "Ancient Rome timeline:\n",
      "\n",
      "Prehistory:\n",
      "There is archaeological evidence of human occupation of the Rome area from at least 5,000 years, but the dense layer of much younger debris obscures Palaeolithic and Neolithic sites.[4] The evidence suggesting the city's ancient foundation is also obscured by the legend of Rome's beginning involving Romulus and Remus.\n",
      "\n",
      "The traditional date for the founding of Rome is 21 April 753 BC, following M. Terentius Varro,[5] and the city and surrounding region of Latium has continued to be inhabited with little interruption since around that time. Excavations made in 2014 have revealed a wall built long before the city's official founding year. Archaeologists uncovered a stone wall and pieces of pottery dating to the 9th century BC and the beginning of the 8th century BC, and there is evidence of people arriving on the Palatine hill as early as the 10th century BC.\n",
      "\n",
      "The site of Sant'Omobono Area is crucial for understanding the related processes of monumentalization, urbanization, and state formation in Rome in the late Archaic period. The Sant'Omobono temple site dates to 7th–6th century BC, making these the oldest known temple remains in Rome.[8]\n",
      "\n",
      "Legendary origin:\n",
      "The city's name was long credited to the legendary culture hero Romulus.[9] It was said that Romulus and his twin brother Remus were the offspring of the rape of an Alban princess by the war god Mars and, via their mother, were further descended from the Trojan prince Aeneas, supposed son of the Greek love goddess Aphrodite. Exposed on the Tiber, they were suckled by a she-wolf and raised by a shepherd and his wife. Avenging themselves on their usurping grand-uncle and restoring their grandfather Numitor to Alba Longa's throne, they were ordered or decided to settle the hills around Rome's later Forum Boarium, an important river port connected in Roman myth with Hercules's tenth labor, capturing the cattle of Geryon.\n",
      "\n",
      "Disputing some point of the founding or its related auguries, Remus was murdered by Romulus or one of his supporters. Romulus then established a walled and roughly square settlement, whose sacred boundary and gates were established by a plowing ritual. Romulus then declared the town an asylum, permitted men of all classes to come to Rome as citizens, including criminals, runaway slaves, and freemen without distinction.[10] To provide his citizens with wives, Romulus invited the neighboring tribes to a festival in Rome where the Romans abducted many of their young women. After the ensuing war with the Sabines, Romulus shared Rome's kingship with the Sabine king Titus Tatius.[11] Romulus selected 100 of the most noble men to form the Roman Senate, initially serving as his advisory council. These men he called fathers (Latin: patres), and their descendants became the patricians. He created three centuries of equites: Ramnes (meaning Romans), Tities (after the Sabine king), and Luceres (Etruscans). He also divided the general populace into thirty curiae, named after thirty of the Sabine women who had intervened to end the war between Romulus and Tatius. The curiae formed the voting units in the Comitia Curiata.\n",
      "\n",
      "City's formation:\n",
      "Rome grew from pastoral settlements on the Palatine Hill and surrounding hills approximately 30 km (19 mi) from the Tyrrhenian Sea on the south side of the Tiber. The Quirinal Hill was probably an outpost for the Sabines, another Italic-speaking people. At this location, the Tiber forms a Z-shaped curve that contains an island where the river can be forded. Because of the river and the ford, Rome was at a crossroads of traffic following the river valley and of traders traveling north and south on the west side of the peninsula.\n",
      "\n",
      "Archaeological finds have confirmed that there were two fortified settlements in the 8th century BC, in the area of the future Rome: Rumi on the Palatine Hill, and Titientes on the Quirinal Hill, backed by the Luceres living in the nearby woods.[13] These were simply three of numerous Italic-speaking communities that existed in Latium, a plain on the Italian peninsula, by the 1st millennium BC. The origins of the Italic peoples lie in prehistory and are therefore not precisely known, but their Indo-European languages migrated from the east in the second half of the 2nd millennium BC.\n",
      "\n",
      "According to Dionysius of Halicarnassus, many Roman historians—including Cato and Sempronius—considered the Italian aborigines to have been prehistoric Greek colonists.[14] The Romans then considered themselves a mix of these people, the Albans, and the other Latins, considered a blend of Pelasgians, Arcadians, Epeans, and refugee Trojans. Over time, the Etruscans and other ancient Italic peoples were admitted as citizens as well. The Sabines—considered to be Gaulish along with the other Umbri peoples of central Italy— were first mentioned in Dionysius's account for having captured the city of Lista by surprise, which was regarded as the mother-city of the Aborigines.\n",
      "\n",
      "\n",
      "Italic context:\n",
      "\n",
      "The Italic speakers in the area included Latins (in the west), Sabines (in the upper valley of the Tiber), Umbrians (in the north-east), Samnites (in the South), Oscans, and others. In the 8th century BC, they shared the peninsula with two other major ethnic groups: the Etruscans in the North and the Greeks in the south.\n",
      "\n",
      "The Etruscans (Etrusci or Tusci in Latin) are attested north of Rome in Etruria (modern northern Lazio, Tuscany and part of Umbria). They founded cities such as Tarquinia, Veii, and Volterra and deeply influenced Roman culture, as clearly shown by the Etruscan origin of some of the mythical Roman kings. Historians have no literature, nor texts of religion or philosophy; therefore, much of what is known about this civilisation is derived from grave goods and tomb findings.[16]\n",
      "\n",
      "The Greeks had founded many colonies in Southern Italy between 750 and 550 BC (which the Romans later called Magna Graecia), such as Cumae, Naples, Reggio Calabria, Crotone, Sybaris, and Taranto, as well as in the eastern two-thirds of Sicily.\n"
     ]
    }
   ],
   "source": [
    "print(TEXT)"
   ]
  },
  {
   "cell_type": "code",
   "execution_count": 45,
   "metadata": {},
   "outputs": [],
   "source": [
    "json.dumps(RESPONSE_JSON)\n",
    "\n",
    "NUMBER=3\n",
    "SUBJECT=\"History\"\n",
    "TONE=\"simple\""
   ]
  },
  {
   "cell_type": "code",
   "execution_count": 46,
   "metadata": {},
   "outputs": [
    {
     "name": "stdout",
     "output_type": "stream",
     "text": [
      "\n",
      "\n",
      "\u001b[1m> Entering new SequentialChain chain...\u001b[0m\n",
      "\n",
      "\n",
      "\u001b[1m> Entering new LLMChain chain...\u001b[0m\n",
      "Prompt after formatting:\n",
      "\u001b[32;1m\u001b[1;3m\n",
      "Text:Ancient Rome timeline:\n",
      "\n",
      "Prehistory:\n",
      "There is archaeological evidence of human occupation of the Rome area from at least 5,000 years, but the dense layer of much younger debris obscures Palaeolithic and Neolithic sites.[4] The evidence suggesting the city's ancient foundation is also obscured by the legend of Rome's beginning involving Romulus and Remus.\n",
      "\n",
      "The traditional date for the founding of Rome is 21 April 753 BC, following M. Terentius Varro,[5] and the city and surrounding region of Latium has continued to be inhabited with little interruption since around that time. Excavations made in 2014 have revealed a wall built long before the city's official founding year. Archaeologists uncovered a stone wall and pieces of pottery dating to the 9th century BC and the beginning of the 8th century BC, and there is evidence of people arriving on the Palatine hill as early as the 10th century BC.\n",
      "\n",
      "The site of Sant'Omobono Area is crucial for understanding the related processes of monumentalization, urbanization, and state formation in Rome in the late Archaic period. The Sant'Omobono temple site dates to 7th–6th century BC, making these the oldest known temple remains in Rome.[8]\n",
      "\n",
      "Legendary origin:\n",
      "The city's name was long credited to the legendary culture hero Romulus.[9] It was said that Romulus and his twin brother Remus were the offspring of the rape of an Alban princess by the war god Mars and, via their mother, were further descended from the Trojan prince Aeneas, supposed son of the Greek love goddess Aphrodite. Exposed on the Tiber, they were suckled by a she-wolf and raised by a shepherd and his wife. Avenging themselves on their usurping grand-uncle and restoring their grandfather Numitor to Alba Longa's throne, they were ordered or decided to settle the hills around Rome's later Forum Boarium, an important river port connected in Roman myth with Hercules's tenth labor, capturing the cattle of Geryon.\n",
      "\n",
      "Disputing some point of the founding or its related auguries, Remus was murdered by Romulus or one of his supporters. Romulus then established a walled and roughly square settlement, whose sacred boundary and gates were established by a plowing ritual. Romulus then declared the town an asylum, permitted men of all classes to come to Rome as citizens, including criminals, runaway slaves, and freemen without distinction.[10] To provide his citizens with wives, Romulus invited the neighboring tribes to a festival in Rome where the Romans abducted many of their young women. After the ensuing war with the Sabines, Romulus shared Rome's kingship with the Sabine king Titus Tatius.[11] Romulus selected 100 of the most noble men to form the Roman Senate, initially serving as his advisory council. These men he called fathers (Latin: patres), and their descendants became the patricians. He created three centuries of equites: Ramnes (meaning Romans), Tities (after the Sabine king), and Luceres (Etruscans). He also divided the general populace into thirty curiae, named after thirty of the Sabine women who had intervened to end the war between Romulus and Tatius. The curiae formed the voting units in the Comitia Curiata.\n",
      "\n",
      "City's formation:\n",
      "Rome grew from pastoral settlements on the Palatine Hill and surrounding hills approximately 30 km (19 mi) from the Tyrrhenian Sea on the south side of the Tiber. The Quirinal Hill was probably an outpost for the Sabines, another Italic-speaking people. At this location, the Tiber forms a Z-shaped curve that contains an island where the river can be forded. Because of the river and the ford, Rome was at a crossroads of traffic following the river valley and of traders traveling north and south on the west side of the peninsula.\n",
      "\n",
      "Archaeological finds have confirmed that there were two fortified settlements in the 8th century BC, in the area of the future Rome: Rumi on the Palatine Hill, and Titientes on the Quirinal Hill, backed by the Luceres living in the nearby woods.[13] These were simply three of numerous Italic-speaking communities that existed in Latium, a plain on the Italian peninsula, by the 1st millennium BC. The origins of the Italic peoples lie in prehistory and are therefore not precisely known, but their Indo-European languages migrated from the east in the second half of the 2nd millennium BC.\n",
      "\n",
      "According to Dionysius of Halicarnassus, many Roman historians—including Cato and Sempronius—considered the Italian aborigines to have been prehistoric Greek colonists.[14] The Romans then considered themselves a mix of these people, the Albans, and the other Latins, considered a blend of Pelasgians, Arcadians, Epeans, and refugee Trojans. Over time, the Etruscans and other ancient Italic peoples were admitted as citizens as well. The Sabines—considered to be Gaulish along with the other Umbri peoples of central Italy— were first mentioned in Dionysius's account for having captured the city of Lista by surprise, which was regarded as the mother-city of the Aborigines.\n",
      "\n",
      "\n",
      "Italic context:\n",
      "\n",
      "The Italic speakers in the area included Latins (in the west), Sabines (in the upper valley of the Tiber), Umbrians (in the north-east), Samnites (in the South), Oscans, and others. In the 8th century BC, they shared the peninsula with two other major ethnic groups: the Etruscans in the North and the Greeks in the south.\n",
      "\n",
      "The Etruscans (Etrusci or Tusci in Latin) are attested north of Rome in Etruria (modern northern Lazio, Tuscany and part of Umbria). They founded cities such as Tarquinia, Veii, and Volterra and deeply influenced Roman culture, as clearly shown by the Etruscan origin of some of the mythical Roman kings. Historians have no literature, nor texts of religion or philosophy; therefore, much of what is known about this civilisation is derived from grave goods and tomb findings.[16]\n",
      "\n",
      "The Greeks had founded many colonies in Southern Italy between 750 and 550 BC (which the Romans later called Magna Graecia), such as Cumae, Naples, Reggio Calabria, Crotone, Sybaris, and Taranto, as well as in the eastern two-thirds of Sicily.\n",
      "You are an expert MCQ maker. Given the above text, it is your job to create a quiz  of 3 multiple choice questions for History students in simple tone. \n",
      "Make sure the questions are not repeated and check all the questions to be conforming the text as well.\n",
      "Make sure to format your response like  RESPONSE_JSON below  and use it as a guide. Ensure to make 3 MCQs\n",
      "### RESPONSE_JSON\n",
      "{\"1\": {\"mcq\": \"multiple choice question\", \"options\": {\"a\": \"choice here\", \"b\": \"choice here\", \"c\": \"choice here\", \"d\": \"choice here\"}, \"correct\": \"correct answer\"}, \"2\": {\"mcq\": \"multiple choice question\", \"options\": {\"a\": \"choice here\", \"b\": \"choice here\", \"c\": \"choice here\", \"d\": \"choice here\"}, \"correct\": \"correct answer\"}, \"3\": {\"mcq\": \"multiple choice question\", \"options\": {\"a\": \"choice here\", \"b\": \"choice here\", \"c\": \"choice here\", \"d\": \"choice here\"}, \"correct\": \"correct answer\"}}\n",
      "\u001b[0m\n",
      "\n",
      "\u001b[1m> Finished chain.\u001b[0m\n",
      "\n",
      "\n",
      "\u001b[1m> Entering new LLMChain chain...\u001b[0m\n",
      "Prompt after formatting:\n",
      "\u001b[32;1m\u001b[1;3m\n",
      "You are an expert english grammarian and writer. Given a Multiple Choice Quiz for History students.You need to evaluate the complexity of the question and give a complete analysis of the quiz. Only use at max 50 words for complexity analysis. \n",
      "if the quiz is not at per with the cognitive and analytical abilities of the students,update the quiz questions which needs to be changed and change the tone such that it perfectly fits the student abilities\n",
      "Quiz_MCQs:\n",
      "\n",
      "{\n",
      "\"1\": {\n",
      "\"mcq\": \"According to the legend, who were the offspring of the rape of an Alban princess by the war god Mars?\",\n",
      "\"options\": {\n",
      "\"a\": \"Romulus and Remus\",\n",
      "\"b\": \"Numitor and Alba Longa\",\n",
      "\"c\": \"Aeneas and Aphrodite\",\n",
      "\"d\": \"Titus Tatius and Sabine king\"\n",
      "},\n",
      "\"correct\": \"a\"\n",
      "},\n",
      "\"2\": {\n",
      "\"mcq\": \"Which hill in Rome was probably an outpost for the Sabines?\",\n",
      "\"options\": {\n",
      "\"a\": \"Palatine Hill\",\n",
      "\"b\": \"Capitoline Hill\",\n",
      "\"c\": \"Quirinal Hill\",\n",
      "\"d\": \"Aventine Hill\"\n",
      "},\n",
      "\"correct\": \"c\"\n",
      "},\n",
      "\"3\": {\n",
      "\"mcq\": \"Which ancient civilization deeply influenced Roman culture and some of the mythical Roman kings?\",\n",
      "\"options\": {\n",
      "\"a\": \"Greeks\",\n",
      "\"b\": \"Umbrians\",\n",
      "\"c\": \"Etruscans\",\n",
      "\"d\": \"Samnites\"\n",
      "},\n",
      "\"correct\": \"c\"\n",
      "}\n",
      "}\n",
      "\n",
      "Check from an expert English Writer of the above quiz:\n",
      "\u001b[0m\n",
      "\n",
      "\u001b[1m> Finished chain.\u001b[0m\n",
      "\n",
      "\u001b[1m> Finished chain.\u001b[0m\n"
     ]
    }
   ],
   "source": [
    "with get_openai_callback() as cb:\n",
    "    response=seqChain(\n",
    "        {\n",
    "            \"text\": TEXT,\n",
    "            \"number\": NUMBER,\n",
    "            \"subject\":SUBJECT,\n",
    "            \"tone\": TONE,\n",
    "            \"response_json\": json.dumps(RESPONSE_JSON)\n",
    "        }\n",
    "        )"
   ]
  },
  {
   "cell_type": "code",
   "execution_count": 39,
   "metadata": {},
   "outputs": [
    {
     "name": "stdout",
     "output_type": "stream",
     "text": [
      "Total Tokens:749\n",
      "Prompt Tokens:533\n",
      "Completion Tokens:216\n",
      "Total Cost:0.0012315\n"
     ]
    }
   ],
   "source": [
    "print(f\"Total Tokens:{cb.total_tokens}\")\n",
    "print(f\"Prompt Tokens:{cb.prompt_tokens}\")\n",
    "print(f\"Completion Tokens:{cb.completion_tokens}\")\n",
    "print(f\"Total Cost:{cb.total_cost}\")"
   ]
  },
  {
   "cell_type": "code",
   "execution_count": 47,
   "metadata": {},
   "outputs": [
    {
     "data": {
      "text/plain": [
       "{'text': \"Ancient Rome timeline:\\n\\nPrehistory:\\nThere is archaeological evidence of human occupation of the Rome area from at least 5,000 years, but the dense layer of much younger debris obscures Palaeolithic and Neolithic sites.[4] The evidence suggesting the city's ancient foundation is also obscured by the legend of Rome's beginning involving Romulus and Remus.\\n\\nThe traditional date for the founding of Rome is 21 April 753 BC, following M. Terentius Varro,[5] and the city and surrounding region of Latium has continued to be inhabited with little interruption since around that time. Excavations made in 2014 have revealed a wall built long before the city's official founding year. Archaeologists uncovered a stone wall and pieces of pottery dating to the 9th century BC and the beginning of the 8th century BC, and there is evidence of people arriving on the Palatine hill as early as the 10th century BC.\\n\\nThe site of Sant'Omobono Area is crucial for understanding the related processes of monumentalization, urbanization, and state formation in Rome in the late Archaic period. The Sant'Omobono temple site dates to 7th–6th century BC, making these the oldest known temple remains in Rome.[8]\\n\\nLegendary origin:\\nThe city's name was long credited to the legendary culture hero Romulus.[9] It was said that Romulus and his twin brother Remus were the offspring of the rape of an Alban princess by the war god Mars and, via their mother, were further descended from the Trojan prince Aeneas, supposed son of the Greek love goddess Aphrodite. Exposed on the Tiber, they were suckled by a she-wolf and raised by a shepherd and his wife. Avenging themselves on their usurping grand-uncle and restoring their grandfather Numitor to Alba Longa's throne, they were ordered or decided to settle the hills around Rome's later Forum Boarium, an important river port connected in Roman myth with Hercules's tenth labor, capturing the cattle of Geryon.\\n\\nDisputing some point of the founding or its related auguries, Remus was murdered by Romulus or one of his supporters. Romulus then established a walled and roughly square settlement, whose sacred boundary and gates were established by a plowing ritual. Romulus then declared the town an asylum, permitted men of all classes to come to Rome as citizens, including criminals, runaway slaves, and freemen without distinction.[10] To provide his citizens with wives, Romulus invited the neighboring tribes to a festival in Rome where the Romans abducted many of their young women. After the ensuing war with the Sabines, Romulus shared Rome's kingship with the Sabine king Titus Tatius.[11] Romulus selected 100 of the most noble men to form the Roman Senate, initially serving as his advisory council. These men he called fathers (Latin: patres), and their descendants became the patricians. He created three centuries of equites: Ramnes (meaning Romans), Tities (after the Sabine king), and Luceres (Etruscans). He also divided the general populace into thirty curiae, named after thirty of the Sabine women who had intervened to end the war between Romulus and Tatius. The curiae formed the voting units in the Comitia Curiata.\\n\\nCity's formation:\\nRome grew from pastoral settlements on the Palatine Hill and surrounding hills approximately 30 km (19 mi) from the Tyrrhenian Sea on the south side of the Tiber. The Quirinal Hill was probably an outpost for the Sabines, another Italic-speaking people. At this location, the Tiber forms a Z-shaped curve that contains an island where the river can be forded. Because of the river and the ford, Rome was at a crossroads of traffic following the river valley and of traders traveling north and south on the west side of the peninsula.\\n\\nArchaeological finds have confirmed that there were two fortified settlements in the 8th century BC, in the area of the future Rome: Rumi on the Palatine Hill, and Titientes on the Quirinal Hill, backed by the Luceres living in the nearby woods.[13] These were simply three of numerous Italic-speaking communities that existed in Latium, a plain on the Italian peninsula, by the 1st millennium BC. The origins of the Italic peoples lie in prehistory and are therefore not precisely known, but their Indo-European languages migrated from the east in the second half of the 2nd millennium BC.\\n\\nAccording to Dionysius of Halicarnassus, many Roman historians—including Cato and Sempronius—considered the Italian aborigines to have been prehistoric Greek colonists.[14] The Romans then considered themselves a mix of these people, the Albans, and the other Latins, considered a blend of Pelasgians, Arcadians, Epeans, and refugee Trojans. Over time, the Etruscans and other ancient Italic peoples were admitted as citizens as well. The Sabines—considered to be Gaulish along with the other Umbri peoples of central Italy— were first mentioned in Dionysius's account for having captured the city of Lista by surprise, which was regarded as the mother-city of the Aborigines.\\n\\n\\nItalic context:\\n\\nThe Italic speakers in the area included Latins (in the west), Sabines (in the upper valley of the Tiber), Umbrians (in the north-east), Samnites (in the South), Oscans, and others. In the 8th century BC, they shared the peninsula with two other major ethnic groups: the Etruscans in the North and the Greeks in the south.\\n\\nThe Etruscans (Etrusci or Tusci in Latin) are attested north of Rome in Etruria (modern northern Lazio, Tuscany and part of Umbria). They founded cities such as Tarquinia, Veii, and Volterra and deeply influenced Roman culture, as clearly shown by the Etruscan origin of some of the mythical Roman kings. Historians have no literature, nor texts of religion or philosophy; therefore, much of what is known about this civilisation is derived from grave goods and tomb findings.[16]\\n\\nThe Greeks had founded many colonies in Southern Italy between 750 and 550 BC (which the Romans later called Magna Graecia), such as Cumae, Naples, Reggio Calabria, Crotone, Sybaris, and Taranto, as well as in the eastern two-thirds of Sicily.\",\n",
       " 'number': 3,\n",
       " 'subject': 'History',\n",
       " 'tone': 'simple',\n",
       " 'response_json': '{\"1\": {\"mcq\": \"multiple choice question\", \"options\": {\"a\": \"choice here\", \"b\": \"choice here\", \"c\": \"choice here\", \"d\": \"choice here\"}, \"correct\": \"correct answer\"}, \"2\": {\"mcq\": \"multiple choice question\", \"options\": {\"a\": \"choice here\", \"b\": \"choice here\", \"c\": \"choice here\", \"d\": \"choice here\"}, \"correct\": \"correct answer\"}, \"3\": {\"mcq\": \"multiple choice question\", \"options\": {\"a\": \"choice here\", \"b\": \"choice here\", \"c\": \"choice here\", \"d\": \"choice here\"}, \"correct\": \"correct answer\"}}',\n",
       " 'quiz': '\\n{\\n\"1\": {\\n\"mcq\": \"According to the legend, who were the offspring of the rape of an Alban princess by the war god Mars?\",\\n\"options\": {\\n\"a\": \"Romulus and Remus\",\\n\"b\": \"Numitor and Alba Longa\",\\n\"c\": \"Aeneas and Aphrodite\",\\n\"d\": \"Titus Tatius and Sabine king\"\\n},\\n\"correct\": \"a\"\\n},\\n\"2\": {\\n\"mcq\": \"Which hill in Rome was probably an outpost for the Sabines?\",\\n\"options\": {\\n\"a\": \"Palatine Hill\",\\n\"b\": \"Capitoline Hill\",\\n\"c\": \"Quirinal Hill\",\\n\"d\": \"Aventine Hill\"\\n},\\n\"correct\": \"c\"\\n},\\n\"3\": {\\n\"mcq\": \"Which ancient civilization deeply influenced Roman culture and some of the mythical Roman kings?\",\\n\"options\": {\\n\"a\": \"Greeks\",\\n\"b\": \"Umbrians\",\\n\"c\": \"Etruscans\",\\n\"d\": \"Samnites\"\\n},\\n\"correct\": \"c\"\\n}\\n}',\n",
       " 'review': 'The complexity of the quiz questions is high, requiring a deep understanding of Roman history and mythology. To better fit student abilities, questions should be simplified and the tone made more accessible. For example, \"Who were the legendary twins raised by a she-wolf?\" instead of the first question.'}"
      ]
     },
     "execution_count": 47,
     "metadata": {},
     "output_type": "execute_result"
    }
   ],
   "source": [
    "response"
   ]
  },
  {
   "cell_type": "code",
   "execution_count": 48,
   "metadata": {},
   "outputs": [
    {
     "data": {
      "text/plain": [
       "{'1': {'mcq': 'According to the legend, who were the offspring of the rape of an Alban princess by the war god Mars?',\n",
       "  'options': {'a': 'Romulus and Remus',\n",
       "   'b': 'Numitor and Alba Longa',\n",
       "   'c': 'Aeneas and Aphrodite',\n",
       "   'd': 'Titus Tatius and Sabine king'},\n",
       "  'correct': 'a'},\n",
       " '2': {'mcq': 'Which hill in Rome was probably an outpost for the Sabines?',\n",
       "  'options': {'a': 'Palatine Hill',\n",
       "   'b': 'Capitoline Hill',\n",
       "   'c': 'Quirinal Hill',\n",
       "   'd': 'Aventine Hill'},\n",
       "  'correct': 'c'},\n",
       " '3': {'mcq': 'Which ancient civilization deeply influenced Roman culture and some of the mythical Roman kings?',\n",
       "  'options': {'a': 'Greeks',\n",
       "   'b': 'Umbrians',\n",
       "   'c': 'Etruscans',\n",
       "   'd': 'Samnites'},\n",
       "  'correct': 'c'}}"
      ]
     },
     "execution_count": 48,
     "metadata": {},
     "output_type": "execute_result"
    }
   ],
   "source": [
    "quiz=response.get(\"quiz\")\n",
    "json.loads(quiz)"
   ]
  },
  {
   "cell_type": "code",
   "execution_count": null,
   "metadata": {},
   "outputs": [],
   "source": []
  }
 ],
 "metadata": {
  "kernelspec": {
   "display_name": "Python 3",
   "language": "python",
   "name": "python3"
  },
  "language_info": {
   "codemirror_mode": {
    "name": "ipython",
    "version": 3
   },
   "file_extension": ".py",
   "mimetype": "text/x-python",
   "name": "python",
   "nbconvert_exporter": "python",
   "pygments_lexer": "ipython3",
   "version": "3.8.19"
  }
 },
 "nbformat": 4,
 "nbformat_minor": 2
}
